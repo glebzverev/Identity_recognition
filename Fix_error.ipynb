{
 "cells": [
  {
   "cell_type": "code",
   "execution_count": 1,
   "id": "373aa10f",
   "metadata": {},
   "outputs": [],
   "source": [
    "import pandas as pd"
   ]
  },
  {
   "cell_type": "code",
   "execution_count": 5,
   "id": "d58b390d",
   "metadata": {},
   "outputs": [],
   "source": [
    "# df = pd.read_csv(\"dfpasports_recogn.csv\", index_col = 0)"
   ]
  },
  {
   "cell_type": "code",
   "execution_count": null,
   "id": "65e96966",
   "metadata": {},
   "outputs": [],
   "source": []
  },
  {
   "cell_type": "code",
   "execution_count": null,
   "id": "758fc6e1",
   "metadata": {},
   "outputs": [],
   "source": [
    "# {\n",
    "#   \"name\": \"Имя\", \n",
    "#   \"surname\": \"Фамилия\", \n",
    "#   \"patronomic\": \"Отчество\", \n",
    "#   \"birthday\": \"Дата рождения в формате 01.01.2001\",\n",
    "#   \"passport_number\": \"серия + номер паспорта\", \n",
    "#   \"passport_date\": \"дата получения паспорта\", \n",
    "#   \"passport_code\": \"код подразделения\", \n",
    "#   \"passport_issued_by\": \"кем выдан\"\n",
    "# }"
   ]
  },
  {
   "cell_type": "code",
   "execution_count": 4,
   "id": "19d73e34",
   "metadata": {},
   "outputs": [],
   "source": [
    "data_vert, data_gor = ['4507123456'],  ['ПАСПОРТНОВИЗОВЫМ ОТДЕЛЕНИЕМ', 'ОВД ПРЕСНЕНСКОГО РАЙОНА', 'УВД ЦАО ГОРОДА МОСКВЫ', ' . 09.11.2016... ', '772112', 'ТРАМП', 'ДОНАЛЬД', ' ', '14.06.1946', 'ГОР. КУИНС', 'ШТАТ НЬЮЙОРК']"
   ]
  },
  {
   "cell_type": "code",
   "execution_count": 45,
   "id": "ab7e5c5e",
   "metadata": {},
   "outputs": [],
   "source": [
    "import re \n",
    "\n",
    "def getPassportNumber(data):\n",
    "    number = \"\"\n",
    "    for i in data:\n",
    "        if len(i)==10:\n",
    "            return i\n",
    "        else:\n",
    "            if abs(10 - len(i)) > (10 - len(number)):\n",
    "                number = i \n",
    "    return number\n",
    "\n",
    "def fixData(data):\n",
    "    data = data.replace(\". \", \"\",4).replace(\" \", \"\",4).replace(\"..\", \"\", 4)\n",
    "    return data\n",
    "\n",
    "def getOtherData(data):\n",
    "    identity = {\"passport_issued_by\": \"\"}\n",
    "    for j,i in enumerate(data):\n",
    "        print(j)\n",
    "        if len([s for s in i.split('.') if s.isdigit()]) == 0:\n",
    "           identity[\"passport_issued_by\"] += i + ' '\n",
    "        else:\n",
    "            break\n",
    "    identity[\"passport_date\"] = fixData(data[j])\n",
    "    j+=1\n",
    "    identity[\"passport_code\"] = data[j].replace(' ', '')\n",
    "    j+=1\n",
    "    identity[\"surname\"] = data[j]\n",
    "    j+=1\n",
    "    identity[\"name\"] = data[j]\n",
    "    j+=1\n",
    "    if len(data[j])<2:\n",
    "        identity[\"patronomic\"] = \"ДЖОН\"\n",
    "    else:\n",
    "        identity[\"patronomic\"] = data[j]\n",
    "    j+=1\n",
    "    identity[\"birthday\"] = fixData(data[j])\n",
    "    j+=1\n",
    "    identity[\"birthday_place\"] = \"\"\n",
    "    for i in range(j, len(data)):\n",
    "        identity[\"birthday_place\"]+= data[i] + ' '\n",
    "    return identity"
   ]
  },
  {
   "cell_type": "code",
   "execution_count": 46,
   "id": "9db0cad8",
   "metadata": {},
   "outputs": [
    {
     "name": "stdout",
     "output_type": "stream",
     "text": [
      "0\n",
      "1\n",
      "2\n",
      "3\n"
     ]
    },
    {
     "data": {
      "text/plain": [
       "{'passport_issued_by': 'ПАСПОРТНОВИЗОВЫМ ОТДЕЛЕНИЕМ ОВД ПРЕСНЕНСКОГО РАЙОНА УВД ЦАО ГОРОДА МОСКВЫ ',\n",
       " 'passport_date': '09.11.2016',\n",
       " 'passport_code': '772112',\n",
       " 'surname': 'ТРАМП',\n",
       " 'name': 'ДОНАЛЬД',\n",
       " 'patronomic': 'ДЖОН',\n",
       " 'birthday': '14.06.1946',\n",
       " 'birthday_place': 'ГОР. КУИНС ШТАТ НЬЮЙОРК '}"
      ]
     },
     "execution_count": 46,
     "metadata": {},
     "output_type": "execute_result"
    }
   ],
   "source": [
    "getOtherData(data_gor)"
   ]
  },
  {
   "cell_type": "code",
   "execution_count": null,
   "id": "7ecb023e",
   "metadata": {},
   "outputs": [],
   "source": []
  }
 ],
 "metadata": {
  "kernelspec": {
   "display_name": "my-conda-env-kernel",
   "language": "python",
   "name": "my-conda-env-kernel"
  },
  "language_info": {
   "codemirror_mode": {
    "name": "ipython",
    "version": 3
   },
   "file_extension": ".py",
   "mimetype": "text/x-python",
   "name": "python",
   "nbconvert_exporter": "python",
   "pygments_lexer": "ipython3",
   "version": "3.8.10"
  }
 },
 "nbformat": 4,
 "nbformat_minor": 5
}
